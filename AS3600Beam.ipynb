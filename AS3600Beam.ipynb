{
 "cells": [
  {
   "cell_type": "code",
   "execution_count": 1,
   "metadata": {},
   "outputs": [],
   "source": [
    "from matplotlib import pyplot as plt\n",
    "import scipy.stats as stats\n",
    "import numpy as np\n",
    "import math\n",
    "from ipywidgets import interact, interactive, fixed, interact_manual\n",
    "import ipywidgets as widgets\n",
    "import scipy.optimize as opt"
   ]
  },
  {
   "cell_type": "code",
   "execution_count": 2,
   "metadata": {},
   "outputs": [],
   "source": [
    "def AS3600_2018_RectBeam(D,B,cover,fc,fsy,Asc,Ast):\n",
    "    E      = 200000\n",
    "    alpha2 =  max(0.85-0.0015*fc, 0.67) # Rectangular stress block parameter\n",
    "    gamma  =  min(0.85,max(0.97-0.0025*fc, 0.67)) # Rectangular stress block parameter\n",
    "    \n",
    "    conStrain = 0.003\n",
    "   \n",
    "    d = D - cover\n",
    "    \n",
    "    def calc_ku(ku):\n",
    "        dn = ku * d\n",
    "        steelCompStrain = conStrain * (dn-cover) / dn\n",
    "        steelTenStrain  = conStrain * (d-dn) / dn\n",
    "\n",
    "        steelCompForce  = min(fsy, E * steelCompStrain) * Asc\n",
    "        steelTenForce   = min(fsy, E * steelTenStrain) * Ast\n",
    "        ConcreteForce   = gamma*dn * B * (alpha2 *fc)\n",
    "        residual = steelCompForce + ConcreteForce - steelTenForce\n",
    "        return residual\n",
    "    \n",
    "    ku = opt.brentq(lambda xi: calc_ku(xi), 0.000000000001, 1)\n",
    "    \n",
    "    dn = ku * d\n",
    "    steelCompStrain = conStrain * (dn-cover) / dn\n",
    "    steelTenStrain  = conStrain * (d-dn) / dn\n",
    "\n",
    "    Cs  = min(fsy, E * steelCompStrain) * Asc\n",
    "    T   = min(fsy, E * steelTenStrain) * Ast\n",
    "    Cc  = gamma*dn * B * (alpha2 *fc)\n",
    "    residual = Cs + Cc - T\n",
    "    \n",
    "    M = Cs * (dn - cover) + Cc * (dn - gamma*dn / 2) + T * (d-dn)\n",
    "    \n",
    "    return M / pow(10,6)   "
   ]
  },
  {
   "cell_type": "code",
   "execution_count": 3,
   "metadata": {},
   "outputs": [],
   "source": [
    "def myFun(D, B, cover, fc, fsy, Asc, Ast):\n",
    "    \n",
    "    res = AS3600_2018_RectBeam(D, B, cover, fc, fsy, Asc, Ast)\n",
    "    print('Capacity of section (kNm)')\n",
    "    print(res)\n",
    "    def Fun1(x):\n",
    "        return AS3600_2018_RectBeam(D, B, cover, fc, fsy, Asc, x)\n",
    "    \n",
    "    fig = plt.figure()\n",
    "    ax = plt.axes()\n",
    "    x = np.linspace(100, 10000, 50)\n",
    "\n",
    "    Fun1_v = np.vectorize(Fun1)\n",
    "    y = Fun1_v(x)\n",
    "\n",
    "    \n",
    "    ax.set_xlabel('Tensile Reinforcement Ast (mm^2)')\n",
    "    ax.set_ylabel('Bending Moment Capacity (kNm)')\n",
    "        \n",
    "    plt.plot(x, y, color='Indigo', linestyle='--', linewidth=2)\n",
    "    plt.grid(b=True, color='aqua', alpha=0.3, linestyle='-.', linewidth=1)\n",
    "  \n",
    "   \n",
    "    x1 = Ast\n",
    "    y1 = res\n",
    "    plt.plot(x1, y1,'g:o', color='red', linestyle='--', linewidth=50)\n",
    "        \n",
    "   \n",
    "   \n",
    " \n",
    "    plt.show()"
   ]
  },
  {
   "cell_type": "code",
   "execution_count": 4,
   "metadata": {},
   "outputs": [
    {
     "data": {
      "application/vnd.jupyter.widget-view+json": {
       "model_id": "d34f5e8d6b6e49d7a15228372d883383",
       "version_major": 2,
       "version_minor": 0
      },
      "text/plain": [
       "interactive(children=(IntSlider(value=500, description='D', max=1000, min=100, step=10), IntSlider(value=300, …"
      ]
     },
     "metadata": {},
     "output_type": "display_data"
    },
    {
     "data": {
      "text/plain": [
       "<function __main__.myFun(D, B, cover, fc, fsy, Asc, Ast)>"
      ]
     },
     "execution_count": 4,
     "metadata": {},
     "output_type": "execute_result"
    }
   ],
   "source": [
    "interact(myFun,\n",
    "         D = widgets.IntSlider(min=100, max=1000, step=10, value=500), \n",
    "         B = widgets.IntSlider(min=100, max=2000, step=10, value=300), \n",
    "         cover = widgets.IntSlider(min=0, max=200, step=1, value=50), \n",
    "         fc = widgets.IntSlider(min=10, max=100, step=1, value=32), \n",
    "         fsy = {250,300,350,400,450,500}, \n",
    "         Asc = widgets.IntSlider(min=0, max=5000, step=1, value=500), \n",
    "         Ast = widgets.IntSlider(min=0, max=5000, step=1, value=500))"
   ]
  },
  {
   "cell_type": "code",
   "execution_count": null,
   "metadata": {},
   "outputs": [],
   "source": []
  }
 ],
 "metadata": {
  "kernelspec": {
   "display_name": "Python 3",
   "language": "python",
   "name": "python3"
  },
  "language_info": {
   "codemirror_mode": {
    "name": "ipython",
    "version": 3
   },
   "file_extension": ".py",
   "mimetype": "text/x-python",
   "name": "python",
   "nbconvert_exporter": "python",
   "pygments_lexer": "ipython3",
   "version": "3.8.3"
  }
 },
 "nbformat": 4,
 "nbformat_minor": 4
}
